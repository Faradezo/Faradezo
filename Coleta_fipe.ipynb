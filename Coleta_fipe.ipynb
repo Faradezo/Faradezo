{
  "nbformat": 4,
  "nbformat_minor": 0,
  "metadata": {
    "colab": {
      "provenance": [],
      "authorship_tag": "ABX9TyOGcrX71UqYNdzuHC0+rf43",
      "include_colab_link": true
    },
    "kernelspec": {
      "name": "python3",
      "display_name": "Python 3"
    },
    "language_info": {
      "name": "python"
    }
  },
  "cells": [
    {
      "cell_type": "markdown",
      "metadata": {
        "id": "view-in-github",
        "colab_type": "text"
      },
      "source": [
        "<a href=\"https://colab.research.google.com/github/Faradezo/Faradezo/blob/main/Coleta_fipe.ipynb\" target=\"_parent\"><img src=\"https://colab.research.google.com/assets/colab-badge.svg\" alt=\"Open In Colab\"/></a>"
      ]
    },
    {
      "cell_type": "code",
      "execution_count": 14,
      "metadata": {
        "id": "PDcGxTgcapcX"
      },
      "outputs": [],
      "source": [
        "#bibliotecas utilizadas\n",
        "from IPython.display import HTML, display\n",
        "import time\n",
        "import requests\n",
        "import json"
      ]
    },
    {
      "cell_type": "code",
      "source": [
        "#Variaveis de Coleta\n",
        "Tipos = [\"cars\", \"motorcycles\", \"trucks\"]\n",
        "\n",
        "Montadoras = []\n",
        "Veiculos = []\n",
        "Modelos = []\n",
        "Anos = []\n",
        "Itens = []\n",
        "Quantidade = 0"
      ],
      "metadata": {
        "id": "lA0Ns8tVbmhJ"
      },
      "execution_count": 15,
      "outputs": []
    },
    {
      "cell_type": "code",
      "source": [
        "#url_principal\n",
        "url = \"https://parallelum.com.br/fipe/api/v2/\"#cars/brands/\""
      ],
      "metadata": {
        "id": "YwF_x6JvbDkp"
      },
      "execution_count": 16,
      "outputs": []
    },
    {
      "cell_type": "code",
      "source": [
        "def progress(value, max=100, text=''):\n",
        "    return HTML(\"\"\"\n",
        "        <div>\n",
        "            <span>{text}</span>\n",
        "            <progress\n",
        "                value='{value}'\n",
        "                max='{max}',\n",
        "                style='width: 100%'\n",
        "            >\n",
        "                {value}\n",
        "            </progress>\n",
        "        </div>\n",
        "    \"\"\".format(value=value, max=max, text=text))"
      ],
      "metadata": {
        "id": "wtYK3hZFbklx"
      },
      "execution_count": 17,
      "outputs": []
    },
    {
      "cell_type": "code",
      "source": [
        "outt = display(progress(0, len(Tipos)), display_id=True)\n",
        "outM = display(progress(0, len(Tipos)), display_id=True)\n",
        "outv = display(progress(0, len(Tipos)), display_id=True)\n",
        "outm = display(progress(0, len(Tipos)), display_id=True)\n",
        "\n",
        "Fipe = {\"fipe\": []}\n",
        "for t, tipo in enumerate(Tipos):\n",
        "  fipe_obj = {\"tipo\": tipo, \"montadora\":[]}\n",
        "  Montadoras = json.loads(requests.get(url + tipo + '/brands/').text)\n",
        "  for M, montadora in enumerate(Montadoras):\n",
        "    montadora_obj = {\"montadora\": montadora[\"name\"], \"veiculos\": []}\n",
        "    Veiculos = json.loads(requests.get(url + tipo + '/brands/' + montadora[\"code\"] + '/models/').text)\n",
        "    for v, veiculo in enumerate(Veiculos):\n",
        "      veiculo_obj = {\"veiculo\": veiculo[\"name\"], \"modelos\": []}\n",
        "      Modelos = json.loads(requests.get(url + tipo + '/brands/' + montadora[\"code\"] + '/models/' + veiculo[\"code\"] + '/years/').text)\n",
        "      for m, modelo in enumerate(Modelos):\n",
        "        modelo_obj = {\"ano\": modelo[\"name\"], \"descricao\": []}\n",
        "        Anos = json.loads(requests.get(url + tipo + '/brands/' + montadora[\"code\"] + '/models/' + veiculo[\"code\"] + '/years/' + modelo[\"code\"]).text)\n",
        "        Quantidade += 1\n",
        "        outt.update(progress((t+1), len(Tipos), tipo))\n",
        "        outM.update(progress((M+1), len(Montadoras), montadora['name']))\n",
        "        outv.update(progress((v+1), len(Veiculos), veiculo['name']))\n",
        "        outm.update(progress((m+1), len(Modelos), modelo['name']))\n",
        "        modelo_obj[\"descricao\"].append(Anos)\n",
        "        veiculo_obj[\"modelos\"].append(modelo_obj)\n",
        "      montadora_obj[\"veiculos\"].append(veiculo_obj)\n",
        "    fipe_obj[\"montadora\"].append(montadora_obj)\n",
        "  Fipe[\"fipe\"].append(fipe_obj)\n",
        "with open(\"Fipe.json\", \"w\") as json_file:\n",
        "  json.dump(Fipe, json_file, indent=4)\n"
      ],
      "metadata": {
        "colab": {
          "base_uri": "https://localhost:8080/",
          "height": 156
        },
        "id": "p7MsNTDdOUr5",
        "outputId": "805d5866-25a9-4001-8174-65e4b30f9437"
      },
      "execution_count": 20,
      "outputs": [
        {
          "output_type": "display_data",
          "data": {
            "text/plain": [
              "<IPython.core.display.HTML object>"
            ],
            "text/html": [
              "\n",
              "        <div>\n",
              "            <span>trucks</span>\n",
              "            <progress\n",
              "                value='3'\n",
              "                max='3',\n",
              "                style='width: 100%'\n",
              "            >\n",
              "                3\n",
              "            </progress>\n",
              "        </div>\n",
              "    "
            ]
          },
          "metadata": {}
        },
        {
          "output_type": "display_data",
          "data": {
            "text/plain": [
              "<IPython.core.display.HTML object>"
            ],
            "text/html": [
              "\n",
              "        <div>\n",
              "            <span>WALKBUS</span>\n",
              "            <progress\n",
              "                value='28'\n",
              "                max='28',\n",
              "                style='width: 100%'\n",
              "            >\n",
              "                28\n",
              "            </progress>\n",
              "        </div>\n",
              "    "
            ]
          },
          "metadata": {}
        },
        {
          "output_type": "display_data",
          "data": {
            "text/plain": [
              "<IPython.core.display.HTML object>"
            ],
            "text/html": [
              "\n",
              "        <div>\n",
              "            <span>Phanter Special Urbano/SPTRANS 2p (die.)</span>\n",
              "            <progress\n",
              "                value='3'\n",
              "                max='3',\n",
              "                style='width: 100%'\n",
              "            >\n",
              "                3\n",
              "            </progress>\n",
              "        </div>\n",
              "    "
            ]
          },
          "metadata": {}
        },
        {
          "output_type": "display_data",
          "data": {
            "text/plain": [
              "<IPython.core.display.HTML object>"
            ],
            "text/html": [
              "\n",
              "        <div>\n",
              "            <span>2008</span>\n",
              "            <progress\n",
              "                value='12'\n",
              "                max='12',\n",
              "                style='width: 100%'\n",
              "            >\n",
              "                12\n",
              "            </progress>\n",
              "        </div>\n",
              "    "
            ]
          },
          "metadata": {}
        }
      ]
    },
    {
      "cell_type": "code",
      "source": [
        "Anos"
      ],
      "metadata": {
        "colab": {
          "base_uri": "https://localhost:8080/"
        },
        "id": "9CZMsRhFvsAi",
        "outputId": "294d18bc-1d4a-49ee-aa4d-54ef4eb0dd3f"
      },
      "execution_count": 13,
      "outputs": [
        {
          "output_type": "execute_result",
          "data": {
            "text/plain": [
              "[]"
            ]
          },
          "metadata": {},
          "execution_count": 13
        }
      ]
    },
    {
      "cell_type": "code",
      "source": [
        "Quantidade"
      ],
      "metadata": {
        "colab": {
          "base_uri": "https://localhost:8080/"
        },
        "id": "McbUKjrj35hy",
        "outputId": "75fb583f-6b77-4aca-f033-e8d401d90b30"
      },
      "execution_count": 11,
      "outputs": [
        {
          "output_type": "execute_result",
          "data": {
            "text/plain": [
              "1"
            ]
          },
          "metadata": {},
          "execution_count": 11
        }
      ]
    },
    {
      "cell_type": "code",
      "source": [],
      "metadata": {
        "id": "SkeWVKTtmsC7"
      },
      "execution_count": 10,
      "outputs": []
    }
  ]
}