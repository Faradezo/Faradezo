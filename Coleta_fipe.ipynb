{
  "nbformat": 4,
  "nbformat_minor": 0,
  "metadata": {
    "colab": {
      "provenance": [],
      "authorship_tag": "ABX9TyOyiaIIEptuMs1NxU8sJNFV",
      "include_colab_link": true
    },
    "kernelspec": {
      "name": "python3",
      "display_name": "Python 3"
    },
    "language_info": {
      "name": "python"
    }
  },
  "cells": [
    {
      "cell_type": "markdown",
      "metadata": {
        "id": "view-in-github",
        "colab_type": "text"
      },
      "source": [
        "<a href=\"https://colab.research.google.com/github/Faradezo/Faradezo/blob/main/Coleta_fipe.ipynb\" target=\"_parent\"><img src=\"https://colab.research.google.com/assets/colab-badge.svg\" alt=\"Open In Colab\"/></a>"
      ]
    },
    {
      "cell_type": "code",
      "execution_count": 2,
      "metadata": {
        "id": "PDcGxTgcapcX"
      },
      "outputs": [],
      "source": [
        "#bibliotecas utilizadas\n",
        "from IPython.display import HTML, display\n",
        "import time\n",
        "import requests\n",
        "import json"
      ]
    },
    {
      "cell_type": "code",
      "source": [
        "#Variaveis de Coleta\n",
        "Tipos = [\"trucks\"]#[\"cars\", \"motorcycles\", \"trucks\"]\n",
        "\n",
        "Montadoras = []\n",
        "Veiculos = []\n",
        "Modelos = []\n",
        "Anos = []\n",
        "Itens = []\n",
        "Quantidade = 0"
      ],
      "metadata": {
        "id": "lA0Ns8tVbmhJ"
      },
      "execution_count": 7,
      "outputs": []
    },
    {
      "cell_type": "code",
      "source": [
        "#url_principal\n",
        "url = \"https://parallelum.com.br/fipe/api/v2/\"#cars/brands/\""
      ],
      "metadata": {
        "id": "YwF_x6JvbDkp"
      },
      "execution_count": 4,
      "outputs": []
    },
    {
      "cell_type": "code",
      "source": [
        "def progress(value, max=100, text=''):\n",
        "    return HTML(\"\"\"\n",
        "        <div>\n",
        "            <span>{text}</span>\n",
        "            <progress\n",
        "                value='{value}'\n",
        "                max='{max}',\n",
        "                style='width: 100%'\n",
        "            >\n",
        "                {value}\n",
        "            </progress>\n",
        "        </div>\n",
        "    \"\"\".format(value=value, max=max, text=text))"
      ],
      "metadata": {
        "id": "wtYK3hZFbklx"
      },
      "execution_count": 5,
      "outputs": []
    },
    {
      "cell_type": "code",
      "source": [
        "outt = display(progress(0, len(Tipos)), display_id=True)\n",
        "outM = display(progress(0, len(Tipos)), display_id=True)\n",
        "outv = display(progress(0, len(Tipos)), display_id=True)\n",
        "outm = display(progress(0, len(Tipos)), display_id=True)\n",
        "\n",
        "Fipe = {\"fipe\": []}\n",
        "for t, tipo in enumerate(Tipos):\n",
        "  fipe_obj = {\"tipo\": tipo, \"montadora\":[]}\n",
        "  Montadoras = json.loads(requests.get(url + tipo + '/brands/').text)\n",
        "  for M, montadora in enumerate(Montadoras[:4]):\n",
        "    montadora_obj = {\"montadora\": montadora[\"name\"], \"veiculos\": []}\n",
        "    Veiculos = json.loads(requests.get(url + tipo + '/brands/' + montadora[\"code\"] + '/models/').text)\n",
        "    for v, veiculo in enumerate(Veiculos[:5]):\n",
        "      veiculo_obj = {\"veiculo\": veiculo[\"name\"], \"modelos\": []}\n",
        "      Modelos = json.loads(requests.get(url + tipo + '/brands/' + montadora[\"code\"] + '/models/' + veiculo[\"code\"] + '/years/').text)\n",
        "\n",
        "      for m, modelo in enumerate(Modelos[:5]):\n",
        "        modelo_obj = {\"ano\": modelo[\"name\"], \"descricao\": []}\n",
        "        Anos = json.loads(requests.get(url + tipo + '/brands/' + montadora[\"code\"] + '/models/' + veiculo[\"code\"] + '/years/' + modelo[\"code\"]).text)\n",
        "        Quantidade += 1\n",
        "        outt.update(progress((t+1), len(Tipos), tipo))\n",
        "        outM.update(progress((M+1), len(Montadoras), montadora['name']))\n",
        "        outv.update(progress((v+1), len(Veiculos), veiculo['name']))\n",
        "        outm.update(progress((m+1), len(Modelos), modelo['name']))\n",
        "\n",
        "        modelo_obj[\"descricao\"].append(Anos)\n",
        "        veiculo_obj[\"modelos\"].append(modelo_obj)\n",
        "      montadora_obj[\"veiculos\"].append(veiculo_obj)\n",
        "    fipe_obj[\"montadora\"].append(montadora_obj)\n",
        "  Fipe[\"fipe\"].append(montadora_obj)\n",
        "with open(tipo+\".json\", \"w\") as json_file:\n",
        "  json.dump(Fipe, json_file, indent=4)\n"
      ],
      "metadata": {
        "colab": {
          "base_uri": "https://localhost:8080/",
          "height": 156
        },
        "id": "p7MsNTDdOUr5",
        "outputId": "ef0b15f8-bdac-456b-d892-86ce4f32e7ab"
      },
      "execution_count": 18,
      "outputs": [
        {
          "output_type": "display_data",
          "data": {
            "text/plain": [
              "<IPython.core.display.HTML object>"
            ],
            "text/html": [
              "\n",
              "        <div>\n",
              "            <span>trucks</span>\n",
              "            <progress\n",
              "                value='1'\n",
              "                max='1',\n",
              "                style='width: 100%'\n",
              "            >\n",
              "                1\n",
              "            </progress>\n",
              "        </div>\n",
              "    "
            ]
          },
          "metadata": {}
        },
        {
          "output_type": "display_data",
          "data": {
            "text/plain": [
              "<IPython.core.display.HTML object>"
            ],
            "text/html": [
              "\n",
              "        <div>\n",
              "            <span>CICCOBUS</span>\n",
              "            <progress\n",
              "                value='4'\n",
              "                max='28',\n",
              "                style='width: 100%'\n",
              "            >\n",
              "                4\n",
              "            </progress>\n",
              "        </div>\n",
              "    "
            ]
          },
          "metadata": {}
        },
        {
          "output_type": "display_data",
          "data": {
            "text/plain": [
              "<IPython.core.display.HTML object>"
            ],
            "text/html": [
              "\n",
              "        <div>\n",
              "            <span>Alleanza Mini Exe./Turismo 2p (diesel)</span>\n",
              "            <progress\n",
              "                value='5'\n",
              "                max='6',\n",
              "                style='width: 100%'\n",
              "            >\n",
              "                5\n",
              "            </progress>\n",
              "        </div>\n",
              "    "
            ]
          },
          "metadata": {}
        },
        {
          "output_type": "display_data",
          "data": {
            "text/plain": [
              "<IPython.core.display.HTML object>"
            ],
            "text/html": [
              "\n",
              "        <div>\n",
              "            <span>2006</span>\n",
              "            <progress\n",
              "                value='3'\n",
              "                max='3',\n",
              "                style='width: 100%'\n",
              "            >\n",
              "                3\n",
              "            </progress>\n",
              "        </div>\n",
              "    "
            ]
          },
          "metadata": {}
        }
      ]
    },
    {
      "cell_type": "code",
      "source": [
        "montadora_obj"
      ],
      "metadata": {
        "colab": {
          "base_uri": "https://localhost:8080/"
        },
        "id": "9CZMsRhFvsAi",
        "outputId": "05c23b3f-e768-4815-ac41-4fa7e5676857"
      },
      "execution_count": 9,
      "outputs": [
        {
          "output_type": "execute_result",
          "data": {
            "text/plain": [
              "{'nome': 'WALKBUS',\n",
              " 'veiculos': [{'nome': 'Phanter Special Urbano/SPTRANS 2p (die.)',\n",
              "   'modelos': [{'nome': '2008',\n",
              "     'anos': [{'vehicleType': 3,\n",
              "       'price': 'R$ 91.441,00',\n",
              "       'brand': 'WALKBUS',\n",
              "       'model': 'Phanter Special Urbano/SPTRANS 2p (die.)',\n",
              "       'modelYear': 2008,\n",
              "       'fuel': 'Diesel',\n",
              "       'codeFipe': '520001-6',\n",
              "       'referenceMonth': 'julho de 2023',\n",
              "       'fuelAcronym': 'D'}]}]}]}"
            ]
          },
          "metadata": {},
          "execution_count": 9
        }
      ]
    },
    {
      "cell_type": "code",
      "source": [
        "Anos"
      ],
      "metadata": {
        "colab": {
          "base_uri": "https://localhost:8080/"
        },
        "id": "McbUKjrj35hy",
        "outputId": "c37deeb5-8462-4bf6-9c23-79ada5e6f64d"
      },
      "execution_count": null,
      "outputs": [
        {
          "output_type": "execute_result",
          "data": {
            "text/plain": [
              "{'vehicleType': 1,\n",
              " 'price': 'R$ 98.562,00',\n",
              " 'brand': 'JAC',\n",
              " 'model': 'T50 PLUS 1.6 16V 5p Aut.',\n",
              " 'modelYear': 2022,\n",
              " 'fuel': 'Gasolina',\n",
              " 'codeFipe': '080028-7',\n",
              " 'referenceMonth': 'julho de 2023',\n",
              " 'fuelAcronym': 'G'}"
            ]
          },
          "metadata": {},
          "execution_count": 51
        }
      ]
    }
  ]
}